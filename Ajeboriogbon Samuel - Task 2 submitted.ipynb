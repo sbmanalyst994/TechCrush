{
 "cells": [
  {
   "cell_type": "markdown",
   "id": "6b6fdcda-051c-4ab1-a60f-16a449a0ed83",
   "metadata": {},
   "source": [
    "# **Task 2, Cohort 3**\n",
    "**Submitted by Ajeboriogbon Samuel A.** <br>\n",
    "**Student Number: DS/2025/TC3/198**"
   ]
  },
  {
   "cell_type": "markdown",
   "id": "1a863976-5b4d-46be-8b0c-d4cca9235b30",
   "metadata": {
    "jp-MarkdownHeadingCollapsed": true
   },
   "source": [
    "## Task A\n",
    "### STUDENT GRADE EVALUATOR\n",
    "**Background** \n",
    "\n",
    "Imagine you’re a teacher who just finished grading your students’ exams. You want a\n",
    "small program that automatically tells whether each student has **passed** or **failed**, and also\n",
    "assigns them a grade (A, B, C, D, or F)."
   ]
  },
  {
   "cell_type": "code",
   "execution_count": 2,
   "id": "fc157ee5-8497-47ac-b4c0-ff58a50d3170",
   "metadata": {},
   "outputs": [],
   "source": [
    "#list of student scores\n",
    "\n",
    "student_scores = [85,78,90,55,40,70,69,61,50,49]"
   ]
  },
  {
   "cell_type": "code",
   "execution_count": 3,
   "id": "5c0b28c2-241b-4ed2-b672-541128bde48b",
   "metadata": {},
   "outputs": [],
   "source": [
    "# Creating a Function that Grades student according to their scores\n",
    "\n",
    "def grade_student(score):\n",
    "    if score >= 80:\n",
    "        grade = 'A'\n",
    "    elif 69 < score < 80:\n",
    "        grade = 'B'\n",
    "    elif 59 < score < 70:\n",
    "        grade = 'C'\n",
    "    elif 49 < score < 60:\n",
    "        grade = 'D'\n",
    "    elif score < 50:\n",
    "        grade = 'F'\n",
    "    return grade\n",
    "\n"
   ]
  },
  {
   "cell_type": "code",
   "execution_count": 4,
   "id": "8bd96f19-901c-4bf4-96cd-e0a8bcf36eff",
   "metadata": {},
   "outputs": [
    {
     "name": "stdout",
     "output_type": "stream",
     "text": [
      "Student 1: Score = 85, Grade = A\n",
      "Student 2: Score = 78, Grade = B\n",
      "Student 3: Score = 90, Grade = A\n",
      "Student 4: Score = 55, Grade = D\n",
      "Student 5: Score = 40, Grade = F\n",
      "Student 6: Score = 70, Grade = B\n",
      "Student 7: Score = 69, Grade = C\n",
      "Student 8: Score = 61, Grade = C\n",
      "Student 9: Score = 50, Grade = D\n",
      "Student 10: Score = 49, Grade = F\n"
     ]
    }
   ],
   "source": [
    "# Looping through student_scores list and applying the grade_student function for each one, also print out the results in specified format.\n",
    "\n",
    "student_id = 0\n",
    "for score in student_scores:\n",
    "    student_id += 1\n",
    "    print(f'Student {student_id}: Score = {score}, Grade = {grade_student(score)}')\n"
   ]
  },
  {
   "cell_type": "markdown",
   "id": "2528cae0-2043-4143-ae36-b0be18f79feb",
   "metadata": {},
   "source": [
    "---"
   ]
  },
  {
   "cell_type": "markdown",
   "id": "aab8a926-c7ef-4622-acc6-9d6b617c336d",
   "metadata": {
    "jp-MarkdownHeadingCollapsed": true
   },
   "source": [
    "## Task B\n",
    "### ATM SIMULATOR\n",
    "**Background** \n",
    "\n",
    "You are building a **mini-ATM system**. When someone inserts their card, they can check\n",
    "their balance, deposit, or withdraw money."
   ]
  },
  {
   "cell_type": "code",
   "execution_count": 10,
   "id": "99fdee62-0b68-4d66-ba7a-8eb93d2d7126",
   "metadata": {},
   "outputs": [],
   "source": [
    "def atm_machine():\n",
    "# Machine status set to True to be running\n",
    "    running = True\n",
    "# Setting Default bank balance as 1000\n",
    "    balance = 1000\n",
    "# Welcome message to user\n",
    "    print(\"Welcome to my mini-ATM System. Built by Samuel, Powered by TechCrush!\\n Please be advised that this system accepts figures only, No letters, alphabets or symbols\")\n",
    "# Use While-Loop for when machine is running i.e. Machine is True\n",
    "    while running:\n",
    "# Action button opions for users to operate the machine\n",
    "        action = int(input('Press \\n 1 to Check Balance \\n 2 to Deposit Money\\n 3 to Withdraw Money \\n 4 to Exit \\n'))\n",
    "# if-elif-else to perform each action and printing result of action performed\n",
    "        if action == 1:\n",
    "            print(f'Hi User, your current balance is {balance} USD only')\n",
    "        elif action == 2:\n",
    "            amt = int(input('Please, enter amount to deposit in figures only (No Letters or symbols):\\n'))\n",
    "            balance += amt\n",
    "            print(f'✅ Action Successful! {amt} USD as been successfully deposited to your account')\n",
    "        elif action == 3:\n",
    "            amt = int(input('Please, enter amount to withdraw in figures only (No Letters or symbols):\\n'))\n",
    "    # Extra condition for Money Withdrawal to confirm if Available balance is not lesser than or insufficient for amount requested to be withdrawn...\n",
    "    # ...to avoid negative balance \n",
    "            if balance >= amt:\n",
    "                balance -= amt\n",
    "                print(f'✅ Action Successful! {amt} USD as been successfully withdrawn from your account')\n",
    "            else:\n",
    "                print(\"❌ Error: Insufficient Balance! Please, press 2 to Deposit Money or 1 to Check your Balance. \\nIf you think this is a mistake please contact us @ TechCrush.com\")\n",
    "# Putting off the machine by turning running status to False when the exit code, 4 is entered.\n",
    "        elif action == 4:\n",
    "            print('Thanks for using our service. Goodbye!')\n",
    "            running = False"
   ]
  },
  {
   "cell_type": "code",
   "execution_count": 11,
   "id": "ae82bbe6-898b-4a43-90f0-620ee29170c5",
   "metadata": {},
   "outputs": [
    {
     "name": "stdout",
     "output_type": "stream",
     "text": [
      "Welcome to my mini-ATM System. Built by Samuel, Powered by TechCrush!\n",
      " Please be advised that this system accepts figures only, No letters, alphabets or symbols\n"
     ]
    },
    {
     "name": "stdin",
     "output_type": "stream",
     "text": [
      "Press \n",
      " 1 to Check Balance \n",
      " 2 to Deposit Money\n",
      " 3 to Withdraw Money \n",
      " 4 to Exit \n",
      " 1\n"
     ]
    },
    {
     "name": "stdout",
     "output_type": "stream",
     "text": [
      "Hi User, your current balance is 1000 USD only\n"
     ]
    },
    {
     "name": "stdin",
     "output_type": "stream",
     "text": [
      "Press \n",
      " 1 to Check Balance \n",
      " 2 to Deposit Money\n",
      " 3 to Withdraw Money \n",
      " 4 to Exit \n",
      " 2\n",
      "Please, enter amount to deposit in figures only (No Letters or symbols):\n",
      " 300\n"
     ]
    },
    {
     "name": "stdout",
     "output_type": "stream",
     "text": [
      "✅ Action Successful! 300 USD as been successfully deposited to your account\n"
     ]
    },
    {
     "name": "stdin",
     "output_type": "stream",
     "text": [
      "Press \n",
      " 1 to Check Balance \n",
      " 2 to Deposit Money\n",
      " 3 to Withdraw Money \n",
      " 4 to Exit \n",
      " 3\n",
      "Please, enter amount to withdraw in figures only (No Letters or symbols):\n",
      " 1500\n"
     ]
    },
    {
     "name": "stdout",
     "output_type": "stream",
     "text": [
      "❌ Error: Insufficient Balance! Please, press 2 to Deposit Money or 1 to Check your Balance. \n",
      "If you think this is a mistake please contact us @ TechCrush.com\n"
     ]
    },
    {
     "name": "stdin",
     "output_type": "stream",
     "text": [
      "Press \n",
      " 1 to Check Balance \n",
      " 2 to Deposit Money\n",
      " 3 to Withdraw Money \n",
      " 4 to Exit \n",
      " 1\n"
     ]
    },
    {
     "name": "stdout",
     "output_type": "stream",
     "text": [
      "Hi User, your current balance is 1300 USD only\n"
     ]
    },
    {
     "name": "stdin",
     "output_type": "stream",
     "text": [
      "Press \n",
      " 1 to Check Balance \n",
      " 2 to Deposit Money\n",
      " 3 to Withdraw Money \n",
      " 4 to Exit \n",
      " 3\n",
      "Please, enter amount to withdraw in figures only (No Letters or symbols):\n",
      " 700\n"
     ]
    },
    {
     "name": "stdout",
     "output_type": "stream",
     "text": [
      "✅ Action Successful! 700 USD as been successfully withdrawn from your account\n"
     ]
    },
    {
     "name": "stdin",
     "output_type": "stream",
     "text": [
      "Press \n",
      " 1 to Check Balance \n",
      " 2 to Deposit Money\n",
      " 3 to Withdraw Money \n",
      " 4 to Exit \n",
      " 1\n"
     ]
    },
    {
     "name": "stdout",
     "output_type": "stream",
     "text": [
      "Hi User, your current balance is 600 USD only\n"
     ]
    },
    {
     "name": "stdin",
     "output_type": "stream",
     "text": [
      "Press \n",
      " 1 to Check Balance \n",
      " 2 to Deposit Money\n",
      " 3 to Withdraw Money \n",
      " 4 to Exit \n",
      " 4\n"
     ]
    },
    {
     "name": "stdout",
     "output_type": "stream",
     "text": [
      "Thanks for using our service. Goodbye!\n"
     ]
    }
   ],
   "source": [
    "atm_machine()"
   ]
  },
  {
   "cell_type": "code",
   "execution_count": null,
   "id": "ce271e50-b36a-47c6-aefe-9d673adf8008",
   "metadata": {},
   "outputs": [],
   "source": []
  },
  {
   "cell_type": "markdown",
   "id": "d8293f63-7073-4efa-a0ba-d1052b16d90f",
   "metadata": {},
   "source": [
    "# ***Thank you***\n",
    "***Task 2 - Done and Dusted, Unto the Next, Phheeewwwww***\n",
    "\n",
    "**NAME: Ajeboriogbon Samuel A.**\n",
    "\n",
    "**STUDENT ID: DS/2025/TC3/198**"
   ]
  }
 ],
 "metadata": {
  "kernelspec": {
   "display_name": "Python [conda env:base] *",
   "language": "python",
   "name": "conda-base-py"
  },
  "language_info": {
   "codemirror_mode": {
    "name": "ipython",
    "version": 3
   },
   "file_extension": ".py",
   "mimetype": "text/x-python",
   "name": "python",
   "nbconvert_exporter": "python",
   "pygments_lexer": "ipython3",
   "version": "3.12.4"
  }
 },
 "nbformat": 4,
 "nbformat_minor": 5
}
