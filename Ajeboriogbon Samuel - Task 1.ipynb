{
 "cells": [
  {
   "cell_type": "markdown",
   "id": "f9cb60d8-830f-4cb3-ae31-d0a6ba2ecb9d",
   "metadata": {},
   "source": [
    "# **Task 1, Cohort 3**\n",
    "**Submitted by Ajeboriogbon Samuel A.** <br>\n",
    "**Student Number: DS/2025/TC3/198**"
   ]
  },
  {
   "cell_type": "markdown",
   "id": "6846554e-ba4d-4028-8cfb-9fd64fbc1e02",
   "metadata": {
    "jp-MarkdownHeadingCollapsed": true
   },
   "source": [
    "## Task A\n",
    "### Shopping List Manager\n",
    "**Background** <br>\r\n",
    "Imagine you’re preparing to go to the market to buy food for the week. Instead of writin \r\n",
    "on paper, you decide to organize your shopping using Python! This will help you keep\r\n",
    "track of what you want to buy and how much it costs."
   ]
  },
  {
   "cell_type": "code",
   "execution_count": 43,
   "id": "22cc504b-4972-4901-8047-64d34f380697",
   "metadata": {},
   "outputs": [],
   "source": [
    "# 1. Create a list of 5 items you plan to buy.\n",
    "items = ['rice', 'garri', 'beans', 'oil', 'salt']"
   ]
  },
  {
   "cell_type": "code",
   "execution_count": 71,
   "id": "f7d68cfc-bf15-431c-b5c6-294454184892",
   "metadata": {},
   "outputs": [],
   "source": [
    "# 2. Create a dictionary where each item is the key, and its price (in Naira) is the value.\n",
    "\n",
    "item_price = {'rice': 36, 'garri': 17, 'beans': 29, 'oil': 9, 'salt': 3}\n",
    "# All values are in Thousands* -> 36 == 36,000"
   ]
  },
  {
   "cell_type": "code",
   "execution_count": 12,
   "id": "1351808b-8d7b-40db-9de4-e8b165dd9788",
   "metadata": {},
   "outputs": [
    {
     "name": "stdout",
     "output_type": "stream",
     "text": [
      "My first item is rice and my last item from my shopping list is salt\n"
     ]
    }
   ],
   "source": [
    "# 3. Print the first and last item from your shopping list.\n",
    "\n",
    "print('My first item is', items[0], 'and my last item from my shopping list is', items[4])"
   ]
  },
  {
   "cell_type": "code",
   "execution_count": 26,
   "id": "70e2d9f8-8b27-4d42-a478-87a83984b3f5",
   "metadata": {},
   "outputs": [
    {
     "name": "stdout",
     "output_type": "stream",
     "text": [
      "The most expensive price in dictionary is 36 thousand naira only\n"
     ]
    }
   ],
   "source": [
    "# 4. Print the price of the most expensive item from the dictionary.\n",
    "\n",
    "print('The most expensive price in dictionary is' ,max(item_price.values()), 'thousand naira only')"
   ]
  },
  {
   "cell_type": "code",
   "execution_count": 47,
   "id": "c3900e0e-7b96-4d2c-9292-1e165c9b137c",
   "metadata": {},
   "outputs": [
    {
     "data": {
      "text/plain": [
       "['rice', 'garri', 'beans', 'oil', 'salt', 'maggi', 'egg']"
      ]
     },
     "execution_count": 47,
     "metadata": {},
     "output_type": "execute_result"
    }
   ],
   "source": [
    "# 5. Add 2 more items to the shopping list.\n",
    "\n",
    "new_list = ['maggi', 'egg']\n",
    "new_items = items + new_list\n",
    "new_items"
   ]
  },
  {
   "cell_type": "code",
   "execution_count": 48,
   "id": "9bd19e60-5730-4b76-8046-2579ba5b9ed0",
   "metadata": {},
   "outputs": [
    {
     "name": "stdout",
     "output_type": "stream",
     "text": [
      "The total sum of my shopping list is  94 thousand naira omly.\n"
     ]
    }
   ],
   "source": [
    "# 6. Find the total cost of all the items.\n",
    "\n",
    "print('The total sum of my shopping list is ', sum(item_price.values()), 'thousand naira omly.')"
   ]
  },
  {
   "cell_type": "code",
   "execution_count": 49,
   "id": "c03bb5fa-b03b-46cb-bfa3-962982141127",
   "metadata": {},
   "outputs": [
    {
     "name": "stdout",
     "output_type": "stream",
     "text": [
      "('rice', 'garri', 'beans')\n"
     ]
    }
   ],
   "source": [
    "# 7. Create a tuple with your 3 favorite items from the shopping list and print it.\n",
    "\n",
    "item_tuple = ('rice', 'garri', 'beans')\n",
    "print(item_tuple)"
   ]
  },
  {
   "cell_type": "code",
   "execution_count": 55,
   "id": "a7834340-ea73-4ad6-9974-c022dee5b231",
   "metadata": {},
   "outputs": [
    {
     "name": "stdout",
     "output_type": "stream",
     "text": [
      "['beans', 'egg', 'garri', 'maggi', 'oil', 'rice', 'salt']\n"
     ]
    }
   ],
   "source": [
    "# 8. Display the items in your shopping list in alphabetical order.\n",
    "\n",
    "new_items.sort()\n",
    "print(new_items)"
   ]
  },
  {
   "cell_type": "markdown",
   "id": "2e185744-a32a-41df-b1db-d2c1fcc8a72f",
   "metadata": {
    "jp-MarkdownHeadingCollapsed": true
   },
   "source": [
    "## Task B\n",
    "### Student Information System\n",
    "**Background** <br>\n",
    "You are helping your school build a very simple “Student Information System.” The\n",
    "school wants to store and display details about one student, including their subjects and\n",
    "hobbies. You will use Python to represent the data neatly."
   ]
  },
  {
   "cell_type": "markdown",
   "id": "836b2468-a771-434e-b301-07868ed31f3a",
   "metadata": {},
   "source": [
    "1 Create variables to store: \n",
    "\n",
    "a. Student’s name\n",
    "\n",
    "b. Student’s age\n",
    "\n",
    "c. Student’s GPA (float)\n",
    "\n",
    "d. Whether the student passed (True or False)"
   ]
  },
  {
   "cell_type": "code",
   "execution_count": 61,
   "id": "a0041310-bac9-4086-8f9f-889b285d1899",
   "metadata": {},
   "outputs": [],
   "source": [
    "name = 'Samuel'\n",
    "age = 27\n",
    "gpa = 5.0\n",
    "status = True"
   ]
  },
  {
   "cell_type": "code",
   "execution_count": 62,
   "id": "2db410c9-48ec-4a83-bde2-8aa6a25a9de0",
   "metadata": {},
   "outputs": [
    {
     "name": "stdout",
     "output_type": "stream",
     "text": [
      "Samuel is 27 years old studying Mathematics at the Prestigious Obafemi Awolowo University, Great Ife, with a GPA of 5.0 in this just concluded semester. His studentship status is True\n"
     ]
    }
   ],
   "source": [
    "# 2. Print a sentence that includes all of the student’s details.\n",
    "\n",
    "print(f'{name} is {age} years old studying Mathematics at the Prestigious Obafemi Awolowo University, Great Ife, with a GPA of {gpa} in this just concluded semester. His studentship status is {status}')"
   ]
  },
  {
   "cell_type": "code",
   "execution_count": 63,
   "id": "b87ba360-ae06-47d2-9b36-8e501c9eb15d",
   "metadata": {},
   "outputs": [
    {
     "name": "stdout",
     "output_type": "stream",
     "text": [
      "Physics\n",
      "Agricultural science\n"
     ]
    }
   ],
   "source": [
    "# 3. Create a list of 5 subjects the student is taking. Print the 2nd and 4th subjects.\n",
    "\n",
    "subjects = ['Mathematics', 'Physics', 'Computer studies', 'Agricultural science', 'Special Electives']\n",
    "print(subjects[1])\n",
    "print(subjects[3])"
   ]
  },
  {
   "cell_type": "code",
   "execution_count": 66,
   "id": "da63f10b-1803-424b-8f63-1cec69a16d20",
   "metadata": {},
   "outputs": [
    {
     "name": "stdout",
     "output_type": "stream",
     "text": [
      "Samuel's last hobbies of 3 is football\n"
     ]
    }
   ],
   "source": [
    "# 4. Create a tuple of the student’s hobbies. Print the last hobby.\n",
    "\n",
    "hobbies = ('praying', 'music', 'football')\n",
    "print(f\"{name}'s last hobbies of 3 is {hobbies[2]}\")"
   ]
  },
  {
   "cell_type": "code",
   "execution_count": 72,
   "id": "816606f3-3b61-4205-9afa-823628fe0e99",
   "metadata": {},
   "outputs": [
    {
     "name": "stdout",
     "output_type": "stream",
     "text": [
      "{'name': 'Samuel', 'age': 27, 'gpa': 5.0, 'passed': True, 'subjects': ['Mathematics', 'Physics', 'Computer studies', 'Agricultural science', 'Special Electives']}\n"
     ]
    }
   ],
   "source": [
    "# 5. Create a dictionary with the student’s details (keys: \"name\", \"age\", \"gpa\", \"passed\", \"subjects\"). Print the dictionary.\n",
    "\n",
    "student_details = dict(name=name, age=age, gpa=gpa, passed=status, subjects=subjects)\n",
    "print(student_details)"
   ]
  },
  {
   "cell_type": "code",
   "execution_count": 73,
   "id": "b5329ca7-c5ed-45c9-b0c0-f4c6e7173cdf",
   "metadata": {},
   "outputs": [
    {
     "name": "stdout",
     "output_type": "stream",
     "text": [
      "The average test score is 78.2\n"
     ]
    }
   ],
   "source": [
    "# 6. Suppose you have another list for the test scores of the students. The scores are; 78, 80, 92, 56, 85. Find the average test score.\n",
    "\n",
    "scores = [78, 80, 92, 56, 85]\n",
    "print(f'The average test score is {sum(scores)/len(scores)}')"
   ]
  },
  {
   "cell_type": "markdown",
   "id": "93ce3cc5-12bd-4dc9-81c9-33ecb6f524a6",
   "metadata": {
    "jp-MarkdownHeadingCollapsed": true
   },
   "source": [
    "## Task C\n",
    "### Restaurant Menu Organizer\n",
    "**Background** <br>\n",
    "You are helping a restaurant organize their menu using Python. The restaurant sells\r\n",
    "both food and drinks, and they want you to structure the data in a way that is easy to\r\n",
    "understand."
   ]
  },
  {
   "cell_type": "code",
   "execution_count": 74,
   "id": "9209eac7-d054-4b69-bdc6-64940fd3b2ea",
   "metadata": {},
   "outputs": [],
   "source": [
    "# 1. Create a list of 5 food items sold in the restaurant.\n",
    "\n",
    "food_items = ['rice', 'beans', 'pounded yam', 'yam', 'fufu']"
   ]
  },
  {
   "cell_type": "code",
   "execution_count": 75,
   "id": "7d174769-f402-47d4-af5c-d6c384710509",
   "metadata": {},
   "outputs": [],
   "source": [
    "# 2. Create a tuple of 3 drink names.\n",
    "\n",
    "drink_tuple = ('fanta', 'coke', '7up')"
   ]
  },
  {
   "cell_type": "code",
   "execution_count": 80,
   "id": "cc9e2886-4d6c-48f4-8145-9ee256c67fc3",
   "metadata": {},
   "outputs": [],
   "source": [
    "# 3. Create a dictionary that links each food item to its price.\n",
    "\n",
    "food_price = [200, 150, 350, 250, 300]\n",
    "menu_dict = dict(zip(food_items, food_price))"
   ]
  },
  {
   "cell_type": "code",
   "execution_count": 81,
   "id": "756b9b16-eab2-418f-a0ed-c7b392b7cba4",
   "metadata": {},
   "outputs": [
    {
     "data": {
      "text/plain": [
       "'pounded yam'"
      ]
     },
     "execution_count": 81,
     "metadata": {},
     "output_type": "execute_result"
    }
   ],
   "source": [
    "# 4. Print the 3rd food item from the list.\n",
    "\n",
    "food_items[2]"
   ]
  },
  {
   "cell_type": "code",
   "execution_count": 82,
   "id": "5245f60b-e7e3-47a8-bc01-7acbe73b617b",
   "metadata": {},
   "outputs": [
    {
     "data": {
      "text/plain": [
       "'fanta'"
      ]
     },
     "execution_count": 82,
     "metadata": {},
     "output_type": "execute_result"
    }
   ],
   "source": [
    "# 5. Print the 1st drink from the tuple.\n",
    "\n",
    "drink_tuple[0]"
   ]
  },
  {
   "cell_type": "code",
   "execution_count": 83,
   "id": "04eabd5d-ac09-40a0-a75d-efd21ad77926",
   "metadata": {},
   "outputs": [
    {
     "data": {
      "text/plain": [
       "150"
      ]
     },
     "execution_count": 83,
     "metadata": {},
     "output_type": "execute_result"
    }
   ],
   "source": [
    "# 6. Print the price of the least expensive item from the dictionary.\n",
    "\n",
    "min(menu_dict.values())"
   ]
  },
  {
   "cell_type": "code",
   "execution_count": 84,
   "id": "d7a11b61-388a-4d81-a372-0ba86480ac19",
   "metadata": {},
   "outputs": [
    {
     "data": {
      "text/plain": [
       "['rice', 'beans', 'pounded yam', 'yam', 'fufu', 'eba', 'ofada']"
      ]
     },
     "execution_count": 84,
     "metadata": {},
     "output_type": "execute_result"
    }
   ],
   "source": [
    "# 7. Add 2 more food items to the list.\n",
    "\n",
    "new_items=['eba','ofada']\n",
    "food_items = food_items+new_items\n",
    "food_items"
   ]
  },
  {
   "cell_type": "code",
   "execution_count": 88,
   "id": "584e444a-0ffb-4faf-9abc-ef9bf25f95b1",
   "metadata": {},
   "outputs": [
    {
     "name": "stdout",
     "output_type": "stream",
     "text": [
      "Average food price is 228.57142857142858\n"
     ]
    }
   ],
   "source": [
    "# 8. Find the average food price.\n",
    "\n",
    "#Gotta add the new items and their prcie to the dictionary first\n",
    "menu_dict['eba'] = 100\n",
    "menu_dict['ofada'] = 250\n",
    "print(f'Average food price is {sum(menu_dict.values())/len(menu_dict)}')"
   ]
  },
  {
   "cell_type": "code",
   "execution_count": 90,
   "id": "84b31e89-d28d-490e-9832-056c8f29e9ae",
   "metadata": {},
   "outputs": [
    {
     "data": {
      "text/plain": [
       "{'rice': 200,\n",
       " 'beans': 150,\n",
       " 'pounded yam': 350,\n",
       " 'yam': 250,\n",
       " 'fufu': 300,\n",
       " 'eba': 100,\n",
       " 'ofada': 250}"
      ]
     },
     "execution_count": 90,
     "metadata": {},
     "output_type": "execute_result"
    }
   ],
   "source": [
    "# 9. Print the full menu dictionary.\n",
    "\n",
    "menu_dict"
   ]
  },
  {
   "cell_type": "markdown",
   "id": "cb6de067-31aa-4d6a-99a1-6b0dfe50a8d4",
   "metadata": {
    "jp-MarkdownHeadingCollapsed": true
   },
   "source": [
    "# ***Thank you***\n",
    "***Task 1 - Done and Dusted, Unto the Next, Phheeewwwww***\n",
    "\n",
    "**NAME: Ajeboriogbon Samuel A.**\n",
    "\n",
    "**STUDENT ID: DS/2025/TC3/198**"
   ]
  }
 ],
 "metadata": {
  "kernelspec": {
   "display_name": "Python [conda env:base] *",
   "language": "python",
   "name": "conda-base-py"
  },
  "language_info": {
   "codemirror_mode": {
    "name": "ipython",
    "version": 3
   },
   "file_extension": ".py",
   "mimetype": "text/x-python",
   "name": "python",
   "nbconvert_exporter": "python",
   "pygments_lexer": "ipython3",
   "version": "3.12.4"
  }
 },
 "nbformat": 4,
 "nbformat_minor": 5
}
