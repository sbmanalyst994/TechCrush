{
 "cells": [
  {
   "cell_type": "markdown",
   "id": "31360d14-d9fb-4d74-8c91-b4b21bc7977d",
   "metadata": {},
   "source": [
    "# **Task 3, Cohort 3**\n",
    "**Submitted by Ajeboriogbon Samuel A.** <br>\n",
    "**Student Number: DS/2025/TC3/198**"
   ]
  },
  {
   "cell_type": "code",
   "execution_count": 1,
   "id": "595e52e4-3a0c-468a-af6e-49f3864fc431",
   "metadata": {},
   "outputs": [],
   "source": [
    "import pandas as pd\n",
    "import numpy as np"
   ]
  },
  {
   "cell_type": "markdown",
   "id": "60ea45a5-ed05-4945-ae59-a9cb2c82c04e",
   "metadata": {},
   "source": [
    "## Data Preparation"
   ]
  },
  {
   "cell_type": "code",
   "execution_count": 19,
   "id": "20710450-159b-429c-8474-e8aea052509b",
   "metadata": {},
   "outputs": [
    {
     "data": {
      "text/html": [
       "<div>\n",
       "<style scoped>\n",
       "    .dataframe tbody tr th:only-of-type {\n",
       "        vertical-align: middle;\n",
       "    }\n",
       "\n",
       "    .dataframe tbody tr th {\n",
       "        vertical-align: top;\n",
       "    }\n",
       "\n",
       "    .dataframe thead th {\n",
       "        text-align: right;\n",
       "    }\n",
       "</style>\n",
       "<table border=\"1\" class=\"dataframe\">\n",
       "  <thead>\n",
       "    <tr style=\"text-align: right;\">\n",
       "      <th></th>\n",
       "      <th>order_details_id</th>\n",
       "      <th>order_id</th>\n",
       "      <th>pizza_id</th>\n",
       "      <th>quantity</th>\n",
       "    </tr>\n",
       "  </thead>\n",
       "  <tbody>\n",
       "    <tr>\n",
       "      <th>0</th>\n",
       "      <td>1</td>\n",
       "      <td>1</td>\n",
       "      <td>hawaiian_m</td>\n",
       "      <td>1</td>\n",
       "    </tr>\n",
       "    <tr>\n",
       "      <th>1</th>\n",
       "      <td>2</td>\n",
       "      <td>2</td>\n",
       "      <td>classic_dlx_m</td>\n",
       "      <td>1</td>\n",
       "    </tr>\n",
       "    <tr>\n",
       "      <th>2</th>\n",
       "      <td>3</td>\n",
       "      <td>2</td>\n",
       "      <td>five_cheese_l</td>\n",
       "      <td>1</td>\n",
       "    </tr>\n",
       "    <tr>\n",
       "      <th>3</th>\n",
       "      <td>4</td>\n",
       "      <td>2</td>\n",
       "      <td>ital_supr_l</td>\n",
       "      <td>1</td>\n",
       "    </tr>\n",
       "    <tr>\n",
       "      <th>4</th>\n",
       "      <td>5</td>\n",
       "      <td>2</td>\n",
       "      <td>mexicana_m</td>\n",
       "      <td>1</td>\n",
       "    </tr>\n",
       "  </tbody>\n",
       "</table>\n",
       "</div>"
      ],
      "text/plain": [
       "   order_details_id  order_id       pizza_id  quantity\n",
       "0                 1         1     hawaiian_m         1\n",
       "1                 2         2  classic_dlx_m         1\n",
       "2                 3         2  five_cheese_l         1\n",
       "3                 4         2    ital_supr_l         1\n",
       "4                 5         2     mexicana_m         1"
      ]
     },
     "execution_count": 19,
     "metadata": {},
     "output_type": "execute_result"
    }
   ],
   "source": [
    "orders_details = pd.read_csv(r\"C:\\Users\\User\\Documents\\TechCrush C3\\pizza_sales\\order_details.csv\")\n",
    "\n",
    "orders_details.head()"
   ]
  },
  {
   "cell_type": "code",
   "execution_count": 5,
   "id": "97346089-7ca1-4396-bd44-574192c522a1",
   "metadata": {},
   "outputs": [
    {
     "name": "stdout",
     "output_type": "stream",
     "text": [
      "<class 'pandas.core.frame.DataFrame'>\n",
      "RangeIndex: 48620 entries, 0 to 48619\n",
      "Data columns (total 4 columns):\n",
      " #   Column            Non-Null Count  Dtype \n",
      "---  ------            --------------  ----- \n",
      " 0   order_details_id  48620 non-null  int64 \n",
      " 1   order_id          48620 non-null  int64 \n",
      " 2   pizza_id          48620 non-null  object\n",
      " 3   quantity          48620 non-null  int64 \n",
      "dtypes: int64(3), object(1)\n",
      "memory usage: 1.5+ MB\n"
     ]
    }
   ],
   "source": [
    "orders_details.info()"
   ]
  },
  {
   "cell_type": "code",
   "execution_count": 20,
   "id": "b00ca9ea-aaba-4a51-b4dc-b951b9cf8f75",
   "metadata": {},
   "outputs": [],
   "source": [
    "orders = pd.read_csv(r\"C:\\Users\\User\\Documents\\TechCrush C3\\pizza_sales\\orders.csv\")\n",
    "pizzas = pd.read_csv(r\"C:\\Users\\User\\Documents\\TechCrush C3\\pizza_sales\\pizzas.csv\")\n",
    "pizza_types = pd.read_csv(r\"C:\\Users\\User\\Documents\\TechCrush C3\\pizza_sales\\pizza_types.csv\", encoding='latin1')\n",
    "data_dict = pd.read_csv(r\"C:\\Users\\User\\Documents\\TechCrush C3\\pizza_sales\\data_dictionary.csv\")"
   ]
  },
  {
   "cell_type": "code",
   "execution_count": 21,
   "id": "8054e700-0824-4923-bc08-f479de05efca",
   "metadata": {},
   "outputs": [
    {
     "data": {
      "text/html": [
       "<div>\n",
       "<style scoped>\n",
       "    .dataframe tbody tr th:only-of-type {\n",
       "        vertical-align: middle;\n",
       "    }\n",
       "\n",
       "    .dataframe tbody tr th {\n",
       "        vertical-align: top;\n",
       "    }\n",
       "\n",
       "    .dataframe thead th {\n",
       "        text-align: right;\n",
       "    }\n",
       "</style>\n",
       "<table border=\"1\" class=\"dataframe\">\n",
       "  <thead>\n",
       "    <tr style=\"text-align: right;\">\n",
       "      <th></th>\n",
       "      <th>order_id</th>\n",
       "      <th>date</th>\n",
       "      <th>time</th>\n",
       "    </tr>\n",
       "  </thead>\n",
       "  <tbody>\n",
       "    <tr>\n",
       "      <th>0</th>\n",
       "      <td>1</td>\n",
       "      <td>2015-01-01</td>\n",
       "      <td>11:38:36</td>\n",
       "    </tr>\n",
       "    <tr>\n",
       "      <th>1</th>\n",
       "      <td>2</td>\n",
       "      <td>2015-01-01</td>\n",
       "      <td>11:57:40</td>\n",
       "    </tr>\n",
       "    <tr>\n",
       "      <th>2</th>\n",
       "      <td>3</td>\n",
       "      <td>2015-01-01</td>\n",
       "      <td>12:12:28</td>\n",
       "    </tr>\n",
       "    <tr>\n",
       "      <th>3</th>\n",
       "      <td>4</td>\n",
       "      <td>2015-01-01</td>\n",
       "      <td>12:16:31</td>\n",
       "    </tr>\n",
       "    <tr>\n",
       "      <th>4</th>\n",
       "      <td>5</td>\n",
       "      <td>2015-01-01</td>\n",
       "      <td>12:21:30</td>\n",
       "    </tr>\n",
       "  </tbody>\n",
       "</table>\n",
       "</div>"
      ],
      "text/plain": [
       "   order_id        date      time\n",
       "0         1  2015-01-01  11:38:36\n",
       "1         2  2015-01-01  11:57:40\n",
       "2         3  2015-01-01  12:12:28\n",
       "3         4  2015-01-01  12:16:31\n",
       "4         5  2015-01-01  12:21:30"
      ]
     },
     "execution_count": 21,
     "metadata": {},
     "output_type": "execute_result"
    }
   ],
   "source": [
    "orders.head()"
   ]
  },
  {
   "cell_type": "code",
   "execution_count": 22,
   "id": "2d0ee019-1747-4cc6-b71c-a26b6704fe1f",
   "metadata": {},
   "outputs": [
    {
     "name": "stdout",
     "output_type": "stream",
     "text": [
      "<class 'pandas.core.frame.DataFrame'>\n",
      "RangeIndex: 21350 entries, 0 to 21349\n",
      "Data columns (total 3 columns):\n",
      " #   Column    Non-Null Count  Dtype \n",
      "---  ------    --------------  ----- \n",
      " 0   order_id  21350 non-null  int64 \n",
      " 1   date      21350 non-null  object\n",
      " 2   time      21350 non-null  object\n",
      "dtypes: int64(1), object(2)\n",
      "memory usage: 500.5+ KB\n"
     ]
    }
   ],
   "source": [
    "orders.info()"
   ]
  },
  {
   "cell_type": "code",
   "execution_count": 11,
   "id": "5cddbb34-d8ed-473f-8a52-2f09c1c2738a",
   "metadata": {},
   "outputs": [
    {
     "data": {
      "text/html": [
       "<div>\n",
       "<style scoped>\n",
       "    .dataframe tbody tr th:only-of-type {\n",
       "        vertical-align: middle;\n",
       "    }\n",
       "\n",
       "    .dataframe tbody tr th {\n",
       "        vertical-align: top;\n",
       "    }\n",
       "\n",
       "    .dataframe thead th {\n",
       "        text-align: right;\n",
       "    }\n",
       "</style>\n",
       "<table border=\"1\" class=\"dataframe\">\n",
       "  <thead>\n",
       "    <tr style=\"text-align: right;\">\n",
       "      <th></th>\n",
       "      <th>pizza_type_id</th>\n",
       "      <th>name</th>\n",
       "      <th>category</th>\n",
       "      <th>ingredients</th>\n",
       "    </tr>\n",
       "  </thead>\n",
       "  <tbody>\n",
       "    <tr>\n",
       "      <th>0</th>\n",
       "      <td>bbq_ckn</td>\n",
       "      <td>The Barbecue Chicken Pizza</td>\n",
       "      <td>Chicken</td>\n",
       "      <td>Barbecued Chicken, Red Peppers, Green Peppers,...</td>\n",
       "    </tr>\n",
       "    <tr>\n",
       "      <th>1</th>\n",
       "      <td>cali_ckn</td>\n",
       "      <td>The California Chicken Pizza</td>\n",
       "      <td>Chicken</td>\n",
       "      <td>Chicken, Artichoke, Spinach, Garlic, Jalapeno ...</td>\n",
       "    </tr>\n",
       "    <tr>\n",
       "      <th>2</th>\n",
       "      <td>ckn_alfredo</td>\n",
       "      <td>The Chicken Alfredo Pizza</td>\n",
       "      <td>Chicken</td>\n",
       "      <td>Chicken, Red Onions, Red Peppers, Mushrooms, A...</td>\n",
       "    </tr>\n",
       "    <tr>\n",
       "      <th>3</th>\n",
       "      <td>ckn_pesto</td>\n",
       "      <td>The Chicken Pesto Pizza</td>\n",
       "      <td>Chicken</td>\n",
       "      <td>Chicken, Tomatoes, Red Peppers, Spinach, Garli...</td>\n",
       "    </tr>\n",
       "    <tr>\n",
       "      <th>4</th>\n",
       "      <td>southw_ckn</td>\n",
       "      <td>The Southwest Chicken Pizza</td>\n",
       "      <td>Chicken</td>\n",
       "      <td>Chicken, Tomatoes, Red Peppers, Red Onions, Ja...</td>\n",
       "    </tr>\n",
       "  </tbody>\n",
       "</table>\n",
       "</div>"
      ],
      "text/plain": [
       "  pizza_type_id                          name category  \\\n",
       "0       bbq_ckn    The Barbecue Chicken Pizza  Chicken   \n",
       "1      cali_ckn  The California Chicken Pizza  Chicken   \n",
       "2   ckn_alfredo     The Chicken Alfredo Pizza  Chicken   \n",
       "3     ckn_pesto       The Chicken Pesto Pizza  Chicken   \n",
       "4    southw_ckn   The Southwest Chicken Pizza  Chicken   \n",
       "\n",
       "                                         ingredients  \n",
       "0  Barbecued Chicken, Red Peppers, Green Peppers,...  \n",
       "1  Chicken, Artichoke, Spinach, Garlic, Jalapeno ...  \n",
       "2  Chicken, Red Onions, Red Peppers, Mushrooms, A...  \n",
       "3  Chicken, Tomatoes, Red Peppers, Spinach, Garli...  \n",
       "4  Chicken, Tomatoes, Red Peppers, Red Onions, Ja...  "
      ]
     },
     "execution_count": 11,
     "metadata": {},
     "output_type": "execute_result"
    }
   ],
   "source": [
    "pizza_types.head()"
   ]
  },
  {
   "cell_type": "code",
   "execution_count": 12,
   "id": "81655a62-ef4e-495a-a2f6-68668bf3c642",
   "metadata": {},
   "outputs": [
    {
     "name": "stdout",
     "output_type": "stream",
     "text": [
      "<class 'pandas.core.frame.DataFrame'>\n",
      "RangeIndex: 32 entries, 0 to 31\n",
      "Data columns (total 4 columns):\n",
      " #   Column         Non-Null Count  Dtype \n",
      "---  ------         --------------  ----- \n",
      " 0   pizza_type_id  32 non-null     object\n",
      " 1   name           32 non-null     object\n",
      " 2   category       32 non-null     object\n",
      " 3   ingredients    32 non-null     object\n",
      "dtypes: object(4)\n",
      "memory usage: 1.1+ KB\n"
     ]
    }
   ],
   "source": [
    "pizza_types.info()"
   ]
  },
  {
   "cell_type": "code",
   "execution_count": 14,
   "id": "f1953be0-eb36-4833-ad6e-4dd438d99ff0",
   "metadata": {},
   "outputs": [
    {
     "data": {
      "text/html": [
       "<div>\n",
       "<style scoped>\n",
       "    .dataframe tbody tr th:only-of-type {\n",
       "        vertical-align: middle;\n",
       "    }\n",
       "\n",
       "    .dataframe tbody tr th {\n",
       "        vertical-align: top;\n",
       "    }\n",
       "\n",
       "    .dataframe thead th {\n",
       "        text-align: right;\n",
       "    }\n",
       "</style>\n",
       "<table border=\"1\" class=\"dataframe\">\n",
       "  <thead>\n",
       "    <tr style=\"text-align: right;\">\n",
       "      <th></th>\n",
       "      <th>pizza_id</th>\n",
       "      <th>pizza_type_id</th>\n",
       "      <th>size</th>\n",
       "      <th>price</th>\n",
       "    </tr>\n",
       "  </thead>\n",
       "  <tbody>\n",
       "    <tr>\n",
       "      <th>0</th>\n",
       "      <td>bbq_ckn_s</td>\n",
       "      <td>bbq_ckn</td>\n",
       "      <td>S</td>\n",
       "      <td>12.75</td>\n",
       "    </tr>\n",
       "    <tr>\n",
       "      <th>1</th>\n",
       "      <td>bbq_ckn_m</td>\n",
       "      <td>bbq_ckn</td>\n",
       "      <td>M</td>\n",
       "      <td>16.75</td>\n",
       "    </tr>\n",
       "    <tr>\n",
       "      <th>2</th>\n",
       "      <td>bbq_ckn_l</td>\n",
       "      <td>bbq_ckn</td>\n",
       "      <td>L</td>\n",
       "      <td>20.75</td>\n",
       "    </tr>\n",
       "    <tr>\n",
       "      <th>3</th>\n",
       "      <td>cali_ckn_s</td>\n",
       "      <td>cali_ckn</td>\n",
       "      <td>S</td>\n",
       "      <td>12.75</td>\n",
       "    </tr>\n",
       "    <tr>\n",
       "      <th>4</th>\n",
       "      <td>cali_ckn_m</td>\n",
       "      <td>cali_ckn</td>\n",
       "      <td>M</td>\n",
       "      <td>16.75</td>\n",
       "    </tr>\n",
       "  </tbody>\n",
       "</table>\n",
       "</div>"
      ],
      "text/plain": [
       "     pizza_id pizza_type_id size  price\n",
       "0   bbq_ckn_s       bbq_ckn    S  12.75\n",
       "1   bbq_ckn_m       bbq_ckn    M  16.75\n",
       "2   bbq_ckn_l       bbq_ckn    L  20.75\n",
       "3  cali_ckn_s      cali_ckn    S  12.75\n",
       "4  cali_ckn_m      cali_ckn    M  16.75"
      ]
     },
     "execution_count": 14,
     "metadata": {},
     "output_type": "execute_result"
    }
   ],
   "source": [
    "pizzas.head()"
   ]
  },
  {
   "cell_type": "code",
   "execution_count": 15,
   "id": "8bd4d7d0-7845-4466-9148-5117cbbcdc57",
   "metadata": {},
   "outputs": [
    {
     "name": "stdout",
     "output_type": "stream",
     "text": [
      "<class 'pandas.core.frame.DataFrame'>\n",
      "RangeIndex: 96 entries, 0 to 95\n",
      "Data columns (total 4 columns):\n",
      " #   Column         Non-Null Count  Dtype  \n",
      "---  ------         --------------  -----  \n",
      " 0   pizza_id       96 non-null     object \n",
      " 1   pizza_type_id  96 non-null     object \n",
      " 2   size           96 non-null     object \n",
      " 3   price          96 non-null     float64\n",
      "dtypes: float64(1), object(3)\n",
      "memory usage: 3.1+ KB\n"
     ]
    }
   ],
   "source": [
    "pizzas.info()"
   ]
  },
  {
   "cell_type": "code",
   "execution_count": 17,
   "id": "35c5f151-3ecb-494b-a2b2-c55a78222a21",
   "metadata": {},
   "outputs": [
    {
     "data": {
      "text/html": [
       "<div>\n",
       "<style scoped>\n",
       "    .dataframe tbody tr th:only-of-type {\n",
       "        vertical-align: middle;\n",
       "    }\n",
       "\n",
       "    .dataframe tbody tr th {\n",
       "        vertical-align: top;\n",
       "    }\n",
       "\n",
       "    .dataframe thead th {\n",
       "        text-align: right;\n",
       "    }\n",
       "</style>\n",
       "<table border=\"1\" class=\"dataframe\">\n",
       "  <thead>\n",
       "    <tr style=\"text-align: right;\">\n",
       "      <th></th>\n",
       "      <th>Table</th>\n",
       "      <th>Field</th>\n",
       "      <th>Description</th>\n",
       "    </tr>\n",
       "  </thead>\n",
       "  <tbody>\n",
       "    <tr>\n",
       "      <th>0</th>\n",
       "      <td>orders</td>\n",
       "      <td>order_id</td>\n",
       "      <td>Unique identifier for each order placed by a t...</td>\n",
       "    </tr>\n",
       "    <tr>\n",
       "      <th>1</th>\n",
       "      <td>orders</td>\n",
       "      <td>date</td>\n",
       "      <td>Date the order was placed (entered into the sy...</td>\n",
       "    </tr>\n",
       "    <tr>\n",
       "      <th>2</th>\n",
       "      <td>orders</td>\n",
       "      <td>time</td>\n",
       "      <td>Time the order was placed (entered into the sy...</td>\n",
       "    </tr>\n",
       "    <tr>\n",
       "      <th>3</th>\n",
       "      <td>order_details</td>\n",
       "      <td>order_details_id</td>\n",
       "      <td>Unique identifier for each pizza placed within...</td>\n",
       "    </tr>\n",
       "    <tr>\n",
       "      <th>4</th>\n",
       "      <td>order_details</td>\n",
       "      <td>order_id</td>\n",
       "      <td>Foreign key that ties the details in each orde...</td>\n",
       "    </tr>\n",
       "    <tr>\n",
       "      <th>5</th>\n",
       "      <td>order_details</td>\n",
       "      <td>pizza_id</td>\n",
       "      <td>Foreign key that ties the pizza ordered to its...</td>\n",
       "    </tr>\n",
       "    <tr>\n",
       "      <th>6</th>\n",
       "      <td>order_details</td>\n",
       "      <td>quantity</td>\n",
       "      <td>Quantity ordered for each pizza of the same ty...</td>\n",
       "    </tr>\n",
       "    <tr>\n",
       "      <th>7</th>\n",
       "      <td>pizzas</td>\n",
       "      <td>pizza_id</td>\n",
       "      <td>Unique identifier for each pizza (constituted ...</td>\n",
       "    </tr>\n",
       "    <tr>\n",
       "      <th>8</th>\n",
       "      <td>pizzas</td>\n",
       "      <td>pizza_type_id</td>\n",
       "      <td>Foreign key that ties each pizza to its broade...</td>\n",
       "    </tr>\n",
       "    <tr>\n",
       "      <th>9</th>\n",
       "      <td>pizzas</td>\n",
       "      <td>size</td>\n",
       "      <td>Size of the pizza (Small, Medium, Large, X Lar...</td>\n",
       "    </tr>\n",
       "    <tr>\n",
       "      <th>10</th>\n",
       "      <td>pizzas</td>\n",
       "      <td>price</td>\n",
       "      <td>Price of the pizza in USD</td>\n",
       "    </tr>\n",
       "    <tr>\n",
       "      <th>11</th>\n",
       "      <td>pizza_types</td>\n",
       "      <td>pizza_type_id</td>\n",
       "      <td>Unique identifier for each pizza type</td>\n",
       "    </tr>\n",
       "    <tr>\n",
       "      <th>12</th>\n",
       "      <td>pizza_types</td>\n",
       "      <td>name</td>\n",
       "      <td>Name of the pizza as shown in the menu</td>\n",
       "    </tr>\n",
       "    <tr>\n",
       "      <th>13</th>\n",
       "      <td>pizza_types</td>\n",
       "      <td>category</td>\n",
       "      <td>Category that the pizza fall under in the menu...</td>\n",
       "    </tr>\n",
       "    <tr>\n",
       "      <th>14</th>\n",
       "      <td>pizza_types</td>\n",
       "      <td>ingredients</td>\n",
       "      <td>Comma-delimited ingredients used in the pizza ...</td>\n",
       "    </tr>\n",
       "  </tbody>\n",
       "</table>\n",
       "</div>"
      ],
      "text/plain": [
       "            Table             Field  \\\n",
       "0          orders          order_id   \n",
       "1          orders              date   \n",
       "2          orders              time   \n",
       "3   order_details  order_details_id   \n",
       "4   order_details          order_id   \n",
       "5   order_details          pizza_id   \n",
       "6   order_details          quantity   \n",
       "7          pizzas          pizza_id   \n",
       "8          pizzas     pizza_type_id   \n",
       "9          pizzas              size   \n",
       "10         pizzas             price   \n",
       "11    pizza_types     pizza_type_id   \n",
       "12    pizza_types              name   \n",
       "13    pizza_types          category   \n",
       "14    pizza_types       ingredients   \n",
       "\n",
       "                                          Description  \n",
       "0   Unique identifier for each order placed by a t...  \n",
       "1   Date the order was placed (entered into the sy...  \n",
       "2   Time the order was placed (entered into the sy...  \n",
       "3   Unique identifier for each pizza placed within...  \n",
       "4   Foreign key that ties the details in each orde...  \n",
       "5   Foreign key that ties the pizza ordered to its...  \n",
       "6   Quantity ordered for each pizza of the same ty...  \n",
       "7   Unique identifier for each pizza (constituted ...  \n",
       "8   Foreign key that ties each pizza to its broade...  \n",
       "9   Size of the pizza (Small, Medium, Large, X Lar...  \n",
       "10                          Price of the pizza in USD  \n",
       "11              Unique identifier for each pizza type  \n",
       "12             Name of the pizza as shown in the menu  \n",
       "13  Category that the pizza fall under in the menu...  \n",
       "14  Comma-delimited ingredients used in the pizza ...  "
      ]
     },
     "execution_count": 17,
     "metadata": {},
     "output_type": "execute_result"
    }
   ],
   "source": [
    "data_dict"
   ]
  },
  {
   "cell_type": "code",
   "execution_count": 23,
   "id": "84dde9b3-a70c-4581-abba-6fc2a5073e8b",
   "metadata": {},
   "outputs": [
    {
     "data": {
      "text/html": [
       "<div>\n",
       "<style scoped>\n",
       "    .dataframe tbody tr th:only-of-type {\n",
       "        vertical-align: middle;\n",
       "    }\n",
       "\n",
       "    .dataframe tbody tr th {\n",
       "        vertical-align: top;\n",
       "    }\n",
       "\n",
       "    .dataframe thead th {\n",
       "        text-align: right;\n",
       "    }\n",
       "</style>\n",
       "<table border=\"1\" class=\"dataframe\">\n",
       "  <thead>\n",
       "    <tr style=\"text-align: right;\">\n",
       "      <th></th>\n",
       "      <th>order_id</th>\n",
       "      <th>date</th>\n",
       "      <th>time</th>\n",
       "      <th>order_details_id</th>\n",
       "      <th>pizza_id</th>\n",
       "      <th>quantity</th>\n",
       "    </tr>\n",
       "  </thead>\n",
       "  <tbody>\n",
       "    <tr>\n",
       "      <th>0</th>\n",
       "      <td>1</td>\n",
       "      <td>2015-01-01</td>\n",
       "      <td>11:38:36</td>\n",
       "      <td>1</td>\n",
       "      <td>hawaiian_m</td>\n",
       "      <td>1</td>\n",
       "    </tr>\n",
       "    <tr>\n",
       "      <th>1</th>\n",
       "      <td>2</td>\n",
       "      <td>2015-01-01</td>\n",
       "      <td>11:57:40</td>\n",
       "      <td>2</td>\n",
       "      <td>classic_dlx_m</td>\n",
       "      <td>1</td>\n",
       "    </tr>\n",
       "    <tr>\n",
       "      <th>2</th>\n",
       "      <td>2</td>\n",
       "      <td>2015-01-01</td>\n",
       "      <td>11:57:40</td>\n",
       "      <td>3</td>\n",
       "      <td>five_cheese_l</td>\n",
       "      <td>1</td>\n",
       "    </tr>\n",
       "    <tr>\n",
       "      <th>3</th>\n",
       "      <td>2</td>\n",
       "      <td>2015-01-01</td>\n",
       "      <td>11:57:40</td>\n",
       "      <td>4</td>\n",
       "      <td>ital_supr_l</td>\n",
       "      <td>1</td>\n",
       "    </tr>\n",
       "    <tr>\n",
       "      <th>4</th>\n",
       "      <td>2</td>\n",
       "      <td>2015-01-01</td>\n",
       "      <td>11:57:40</td>\n",
       "      <td>5</td>\n",
       "      <td>mexicana_m</td>\n",
       "      <td>1</td>\n",
       "    </tr>\n",
       "  </tbody>\n",
       "</table>\n",
       "</div>"
      ],
      "text/plain": [
       "   order_id        date      time  order_details_id       pizza_id  quantity\n",
       "0         1  2015-01-01  11:38:36                 1     hawaiian_m         1\n",
       "1         2  2015-01-01  11:57:40                 2  classic_dlx_m         1\n",
       "2         2  2015-01-01  11:57:40                 3  five_cheese_l         1\n",
       "3         2  2015-01-01  11:57:40                 4    ital_supr_l         1\n",
       "4         2  2015-01-01  11:57:40                 5     mexicana_m         1"
      ]
     },
     "execution_count": 23,
     "metadata": {},
     "output_type": "execute_result"
    }
   ],
   "source": [
    "df = pd.merge(orders, orders_details, how='inner', on='order_id')\n",
    "\n",
    "df.head()"
   ]
  },
  {
   "cell_type": "code",
   "execution_count": 24,
   "id": "7398b2f1-0414-41f4-ad62-e3e9c893c571",
   "metadata": {},
   "outputs": [
    {
     "data": {
      "text/html": [
       "<div>\n",
       "<style scoped>\n",
       "    .dataframe tbody tr th:only-of-type {\n",
       "        vertical-align: middle;\n",
       "    }\n",
       "\n",
       "    .dataframe tbody tr th {\n",
       "        vertical-align: top;\n",
       "    }\n",
       "\n",
       "    .dataframe thead th {\n",
       "        text-align: right;\n",
       "    }\n",
       "</style>\n",
       "<table border=\"1\" class=\"dataframe\">\n",
       "  <thead>\n",
       "    <tr style=\"text-align: right;\">\n",
       "      <th></th>\n",
       "      <th>order_id</th>\n",
       "      <th>date</th>\n",
       "      <th>time</th>\n",
       "      <th>order_details_id</th>\n",
       "      <th>pizza_id</th>\n",
       "      <th>quantity</th>\n",
       "      <th>pizza_type_id</th>\n",
       "      <th>size</th>\n",
       "      <th>price</th>\n",
       "    </tr>\n",
       "  </thead>\n",
       "  <tbody>\n",
       "    <tr>\n",
       "      <th>0</th>\n",
       "      <td>1</td>\n",
       "      <td>2015-01-01</td>\n",
       "      <td>11:38:36</td>\n",
       "      <td>1</td>\n",
       "      <td>hawaiian_m</td>\n",
       "      <td>1</td>\n",
       "      <td>hawaiian</td>\n",
       "      <td>M</td>\n",
       "      <td>13.25</td>\n",
       "    </tr>\n",
       "    <tr>\n",
       "      <th>1</th>\n",
       "      <td>2</td>\n",
       "      <td>2015-01-01</td>\n",
       "      <td>11:57:40</td>\n",
       "      <td>2</td>\n",
       "      <td>classic_dlx_m</td>\n",
       "      <td>1</td>\n",
       "      <td>classic_dlx</td>\n",
       "      <td>M</td>\n",
       "      <td>16.00</td>\n",
       "    </tr>\n",
       "    <tr>\n",
       "      <th>2</th>\n",
       "      <td>2</td>\n",
       "      <td>2015-01-01</td>\n",
       "      <td>11:57:40</td>\n",
       "      <td>3</td>\n",
       "      <td>five_cheese_l</td>\n",
       "      <td>1</td>\n",
       "      <td>five_cheese</td>\n",
       "      <td>L</td>\n",
       "      <td>18.50</td>\n",
       "    </tr>\n",
       "    <tr>\n",
       "      <th>3</th>\n",
       "      <td>2</td>\n",
       "      <td>2015-01-01</td>\n",
       "      <td>11:57:40</td>\n",
       "      <td>4</td>\n",
       "      <td>ital_supr_l</td>\n",
       "      <td>1</td>\n",
       "      <td>ital_supr</td>\n",
       "      <td>L</td>\n",
       "      <td>20.75</td>\n",
       "    </tr>\n",
       "    <tr>\n",
       "      <th>4</th>\n",
       "      <td>2</td>\n",
       "      <td>2015-01-01</td>\n",
       "      <td>11:57:40</td>\n",
       "      <td>5</td>\n",
       "      <td>mexicana_m</td>\n",
       "      <td>1</td>\n",
       "      <td>mexicana</td>\n",
       "      <td>M</td>\n",
       "      <td>16.00</td>\n",
       "    </tr>\n",
       "  </tbody>\n",
       "</table>\n",
       "</div>"
      ],
      "text/plain": [
       "   order_id        date      time  order_details_id       pizza_id  quantity  \\\n",
       "0         1  2015-01-01  11:38:36                 1     hawaiian_m         1   \n",
       "1         2  2015-01-01  11:57:40                 2  classic_dlx_m         1   \n",
       "2         2  2015-01-01  11:57:40                 3  five_cheese_l         1   \n",
       "3         2  2015-01-01  11:57:40                 4    ital_supr_l         1   \n",
       "4         2  2015-01-01  11:57:40                 5     mexicana_m         1   \n",
       "\n",
       "  pizza_type_id size  price  \n",
       "0      hawaiian    M  13.25  \n",
       "1   classic_dlx    M  16.00  \n",
       "2   five_cheese    L  18.50  \n",
       "3     ital_supr    L  20.75  \n",
       "4      mexicana    M  16.00  "
      ]
     },
     "execution_count": 24,
     "metadata": {},
     "output_type": "execute_result"
    }
   ],
   "source": [
    "df = pd.merge(df, pizzas, how='inner', on='pizza_id')\n",
    "\n",
    "df.head()"
   ]
  },
  {
   "cell_type": "code",
   "execution_count": 25,
   "id": "f7281548-53e6-468b-8e3f-9d2b2d4c55cf",
   "metadata": {},
   "outputs": [
    {
     "name": "stdout",
     "output_type": "stream",
     "text": [
      "<class 'pandas.core.frame.DataFrame'>\n",
      "RangeIndex: 48620 entries, 0 to 48619\n",
      "Data columns (total 12 columns):\n",
      " #   Column            Non-Null Count  Dtype  \n",
      "---  ------            --------------  -----  \n",
      " 0   order_id          48620 non-null  int64  \n",
      " 1   date              48620 non-null  object \n",
      " 2   time              48620 non-null  object \n",
      " 3   order_details_id  48620 non-null  int64  \n",
      " 4   pizza_id          48620 non-null  object \n",
      " 5   quantity          48620 non-null  int64  \n",
      " 6   pizza_type_id     48620 non-null  object \n",
      " 7   size              48620 non-null  object \n",
      " 8   price             48620 non-null  float64\n",
      " 9   name              48620 non-null  object \n",
      " 10  category          48620 non-null  object \n",
      " 11  ingredients       48620 non-null  object \n",
      "dtypes: float64(1), int64(3), object(8)\n",
      "memory usage: 4.5+ MB\n"
     ]
    }
   ],
   "source": [
    "df = pd.merge(df, pizza_types, how = 'inner', on='pizza_type_id')\n",
    "\n",
    "df.info()"
   ]
  },
  {
   "cell_type": "code",
   "execution_count": 26,
   "id": "98b9804d-912f-4982-b718-a37fa53b4ec3",
   "metadata": {},
   "outputs": [
    {
     "data": {
      "text/html": [
       "<div>\n",
       "<style scoped>\n",
       "    .dataframe tbody tr th:only-of-type {\n",
       "        vertical-align: middle;\n",
       "    }\n",
       "\n",
       "    .dataframe tbody tr th {\n",
       "        vertical-align: top;\n",
       "    }\n",
       "\n",
       "    .dataframe thead th {\n",
       "        text-align: right;\n",
       "    }\n",
       "</style>\n",
       "<table border=\"1\" class=\"dataframe\">\n",
       "  <thead>\n",
       "    <tr style=\"text-align: right;\">\n",
       "      <th></th>\n",
       "      <th>order_id</th>\n",
       "      <th>order_details_id</th>\n",
       "      <th>quantity</th>\n",
       "      <th>price</th>\n",
       "    </tr>\n",
       "  </thead>\n",
       "  <tbody>\n",
       "    <tr>\n",
       "      <th>count</th>\n",
       "      <td>48620.000000</td>\n",
       "      <td>48620.000000</td>\n",
       "      <td>48620.000000</td>\n",
       "      <td>48620.000000</td>\n",
       "    </tr>\n",
       "    <tr>\n",
       "      <th>mean</th>\n",
       "      <td>10701.479761</td>\n",
       "      <td>24310.500000</td>\n",
       "      <td>1.019622</td>\n",
       "      <td>16.494132</td>\n",
       "    </tr>\n",
       "    <tr>\n",
       "      <th>std</th>\n",
       "      <td>6180.119770</td>\n",
       "      <td>14035.529381</td>\n",
       "      <td>0.143077</td>\n",
       "      <td>3.621789</td>\n",
       "    </tr>\n",
       "    <tr>\n",
       "      <th>min</th>\n",
       "      <td>1.000000</td>\n",
       "      <td>1.000000</td>\n",
       "      <td>1.000000</td>\n",
       "      <td>9.750000</td>\n",
       "    </tr>\n",
       "    <tr>\n",
       "      <th>25%</th>\n",
       "      <td>5337.000000</td>\n",
       "      <td>12155.750000</td>\n",
       "      <td>1.000000</td>\n",
       "      <td>12.750000</td>\n",
       "    </tr>\n",
       "    <tr>\n",
       "      <th>50%</th>\n",
       "      <td>10682.500000</td>\n",
       "      <td>24310.500000</td>\n",
       "      <td>1.000000</td>\n",
       "      <td>16.500000</td>\n",
       "    </tr>\n",
       "    <tr>\n",
       "      <th>75%</th>\n",
       "      <td>16100.000000</td>\n",
       "      <td>36465.250000</td>\n",
       "      <td>1.000000</td>\n",
       "      <td>20.250000</td>\n",
       "    </tr>\n",
       "    <tr>\n",
       "      <th>max</th>\n",
       "      <td>21350.000000</td>\n",
       "      <td>48620.000000</td>\n",
       "      <td>4.000000</td>\n",
       "      <td>35.950000</td>\n",
       "    </tr>\n",
       "  </tbody>\n",
       "</table>\n",
       "</div>"
      ],
      "text/plain": [
       "           order_id  order_details_id      quantity         price\n",
       "count  48620.000000      48620.000000  48620.000000  48620.000000\n",
       "mean   10701.479761      24310.500000      1.019622     16.494132\n",
       "std     6180.119770      14035.529381      0.143077      3.621789\n",
       "min        1.000000          1.000000      1.000000      9.750000\n",
       "25%     5337.000000      12155.750000      1.000000     12.750000\n",
       "50%    10682.500000      24310.500000      1.000000     16.500000\n",
       "75%    16100.000000      36465.250000      1.000000     20.250000\n",
       "max    21350.000000      48620.000000      4.000000     35.950000"
      ]
     },
     "execution_count": 26,
     "metadata": {},
     "output_type": "execute_result"
    }
   ],
   "source": [
    "df.describe()"
   ]
  },
  {
   "cell_type": "markdown",
   "id": "581997ca-89df-4e5c-a42f-d581de58603c",
   "metadata": {},
   "source": [
    "## Data Analysis\n",
    "\n",
    "*I'm sorry ma'am but I'm bad at commenting but i made the code explanable as possible*"
   ]
  },
  {
   "cell_type": "markdown",
   "id": "1f6a4723-5b99-4e6a-ac14-7bf0ff030407",
   "metadata": {},
   "source": [
    "**Q1. What is the total revenue/sales?**"
   ]
  },
  {
   "cell_type": "code",
   "execution_count": 33,
   "id": "62955e5d-1ef1-486e-a8ad-85306b5c6fc3",
   "metadata": {},
   "outputs": [
    {
     "data": {
      "text/html": [
       "<div>\n",
       "<style scoped>\n",
       "    .dataframe tbody tr th:only-of-type {\n",
       "        vertical-align: middle;\n",
       "    }\n",
       "\n",
       "    .dataframe tbody tr th {\n",
       "        vertical-align: top;\n",
       "    }\n",
       "\n",
       "    .dataframe thead th {\n",
       "        text-align: right;\n",
       "    }\n",
       "</style>\n",
       "<table border=\"1\" class=\"dataframe\">\n",
       "  <thead>\n",
       "    <tr style=\"text-align: right;\">\n",
       "      <th></th>\n",
       "      <th>order_id</th>\n",
       "      <th>date</th>\n",
       "      <th>time</th>\n",
       "      <th>order_details_id</th>\n",
       "      <th>pizza_id</th>\n",
       "      <th>quantity</th>\n",
       "      <th>pizza_type_id</th>\n",
       "      <th>size</th>\n",
       "      <th>price</th>\n",
       "      <th>name</th>\n",
       "      <th>category</th>\n",
       "      <th>ingredients</th>\n",
       "      <th>total_bill</th>\n",
       "    </tr>\n",
       "  </thead>\n",
       "  <tbody>\n",
       "    <tr>\n",
       "      <th>48</th>\n",
       "      <td>17</td>\n",
       "      <td>2015-01-01</td>\n",
       "      <td>13:53:00</td>\n",
       "      <td>49</td>\n",
       "      <td>mediterraneo_m</td>\n",
       "      <td>2</td>\n",
       "      <td>mediterraneo</td>\n",
       "      <td>M</td>\n",
       "      <td>16.00</td>\n",
       "      <td>The Mediterranean Pizza</td>\n",
       "      <td>Veggie</td>\n",
       "      <td>Spinach, Artichokes, Kalamata Olives, Sun-drie...</td>\n",
       "      <td>32.0</td>\n",
       "    </tr>\n",
       "    <tr>\n",
       "      <th>211</th>\n",
       "      <td>91</td>\n",
       "      <td>2015-01-02</td>\n",
       "      <td>15:14:43</td>\n",
       "      <td>212</td>\n",
       "      <td>bbq_ckn_l</td>\n",
       "      <td>2</td>\n",
       "      <td>bbq_ckn</td>\n",
       "      <td>L</td>\n",
       "      <td>20.75</td>\n",
       "      <td>The Barbecue Chicken Pizza</td>\n",
       "      <td>Chicken</td>\n",
       "      <td>Barbecued Chicken, Red Peppers, Green Peppers,...</td>\n",
       "      <td>41.5</td>\n",
       "    </tr>\n",
       "    <tr>\n",
       "      <th>222</th>\n",
       "      <td>92</td>\n",
       "      <td>2015-01-02</td>\n",
       "      <td>15:17:02</td>\n",
       "      <td>223</td>\n",
       "      <td>the_greek_m</td>\n",
       "      <td>2</td>\n",
       "      <td>the_greek</td>\n",
       "      <td>M</td>\n",
       "      <td>16.00</td>\n",
       "      <td>The Greek Pizza</td>\n",
       "      <td>Classic</td>\n",
       "      <td>Kalamata Olives, Feta Cheese, Tomatoes, Garlic...</td>\n",
       "      <td>32.0</td>\n",
       "    </tr>\n",
       "    <tr>\n",
       "      <th>245</th>\n",
       "      <td>105</td>\n",
       "      <td>2015-01-02</td>\n",
       "      <td>18:12:01</td>\n",
       "      <td>246</td>\n",
       "      <td>hawaiian_s</td>\n",
       "      <td>2</td>\n",
       "      <td>hawaiian</td>\n",
       "      <td>S</td>\n",
       "      <td>10.50</td>\n",
       "      <td>The Hawaiian Pizza</td>\n",
       "      <td>Classic</td>\n",
       "      <td>Sliced Ham, Pineapple, Mozzarella Cheese</td>\n",
       "      <td>21.0</td>\n",
       "    </tr>\n",
       "    <tr>\n",
       "      <th>444</th>\n",
       "      <td>189</td>\n",
       "      <td>2015-01-03</td>\n",
       "      <td>20:12:14</td>\n",
       "      <td>445</td>\n",
       "      <td>big_meat_s</td>\n",
       "      <td>2</td>\n",
       "      <td>big_meat</td>\n",
       "      <td>S</td>\n",
       "      <td>12.00</td>\n",
       "      <td>The Big Meat Pizza</td>\n",
       "      <td>Classic</td>\n",
       "      <td>Bacon, Pepperoni, Italian Sausage, Chorizo Sau...</td>\n",
       "      <td>24.0</td>\n",
       "    </tr>\n",
       "  </tbody>\n",
       "</table>\n",
       "</div>"
      ],
      "text/plain": [
       "     order_id        date      time  order_details_id        pizza_id  \\\n",
       "48         17  2015-01-01  13:53:00                49  mediterraneo_m   \n",
       "211        91  2015-01-02  15:14:43               212       bbq_ckn_l   \n",
       "222        92  2015-01-02  15:17:02               223     the_greek_m   \n",
       "245       105  2015-01-02  18:12:01               246      hawaiian_s   \n",
       "444       189  2015-01-03  20:12:14               445      big_meat_s   \n",
       "\n",
       "     quantity pizza_type_id size  price                        name category  \\\n",
       "48          2  mediterraneo    M  16.00     The Mediterranean Pizza   Veggie   \n",
       "211         2       bbq_ckn    L  20.75  The Barbecue Chicken Pizza  Chicken   \n",
       "222         2     the_greek    M  16.00             The Greek Pizza  Classic   \n",
       "245         2      hawaiian    S  10.50          The Hawaiian Pizza  Classic   \n",
       "444         2      big_meat    S  12.00          The Big Meat Pizza  Classic   \n",
       "\n",
       "                                           ingredients  total_bill  \n",
       "48   Spinach, Artichokes, Kalamata Olives, Sun-drie...        32.0  \n",
       "211  Barbecued Chicken, Red Peppers, Green Peppers,...        41.5  \n",
       "222  Kalamata Olives, Feta Cheese, Tomatoes, Garlic...        32.0  \n",
       "245           Sliced Ham, Pineapple, Mozzarella Cheese        21.0  \n",
       "444  Bacon, Pepperoni, Italian Sausage, Chorizo Sau...        24.0  "
      ]
     },
     "execution_count": 33,
     "metadata": {},
     "output_type": "execute_result"
    }
   ],
   "source": [
    "df['total_bill'] = df['quantity'] * df['price']\n",
    "\n",
    "df[df['quantity']==2].head()"
   ]
  },
  {
   "cell_type": "code",
   "execution_count": 34,
   "id": "be231972-d505-44a8-bfbe-55323355a354",
   "metadata": {},
   "outputs": [
    {
     "data": {
      "text/plain": [
       "817860.05"
      ]
     },
     "execution_count": 34,
     "metadata": {},
     "output_type": "execute_result"
    }
   ],
   "source": [
    "df['total_bill'].sum()"
   ]
  },
  {
   "cell_type": "markdown",
   "id": "d6e20e3a-7fa8-44f5-9c0a-96f473735bcb",
   "metadata": {},
   "source": [
    "**Ans to Q1:** Total Revenues/Sales is 817,860.05 USD\n",
    "\n",
    "It's necessary to note that the Price column is recorded in unit and this can be easily known from the data summary *(df.describe())* where the max price is 35.95, so it's needed that we multiply the quatity order by the unit price to get total  bill for an order."
   ]
  },
  {
   "cell_type": "markdown",
   "id": "04d7ebf5-ead4-4477-bdbb-38c831705ab3",
   "metadata": {},
   "source": [
    "---"
   ]
  },
  {
   "cell_type": "markdown",
   "id": "5dcab29d-97f2-4054-b7f6-8c32d5a884b5",
   "metadata": {},
   "source": [
    "**Q2. Find the total quantity sold.**"
   ]
  },
  {
   "cell_type": "code",
   "execution_count": 36,
   "id": "4801afac-23c5-4c91-ad6e-c3104fd0f4cb",
   "metadata": {},
   "outputs": [
    {
     "data": {
      "text/plain": [
       "49574"
      ]
     },
     "execution_count": 36,
     "metadata": {},
     "output_type": "execute_result"
    }
   ],
   "source": [
    "df['quantity'].sum()"
   ]
  },
  {
   "cell_type": "markdown",
   "id": "906fed94-03ac-47f5-ad83-d41dee7e80b8",
   "metadata": {},
   "source": [
    "**Ans to Q2:** Total Quantity of pizza sold is 49574 units"
   ]
  },
  {
   "cell_type": "markdown",
   "id": "ab813c39-0bac-4f7f-9340-e35bc455d006",
   "metadata": {},
   "source": [
    "---"
   ]
  },
  {
   "cell_type": "markdown",
   "id": "2a8f2ffb-40ce-4cfe-a71b-c401e9cbaa4f",
   "metadata": {},
   "source": [
    "**Q3. Find the total orders.**"
   ]
  },
  {
   "cell_type": "code",
   "execution_count": 40,
   "id": "a9d5519c-47d2-4a87-80a8-762e2e8f7db7",
   "metadata": {},
   "outputs": [
    {
     "data": {
      "text/plain": [
       "48620"
      ]
     },
     "execution_count": 40,
     "metadata": {},
     "output_type": "execute_result"
    }
   ],
   "source": [
    "df['order_id'].value_counts().sum()"
   ]
  },
  {
   "cell_type": "markdown",
   "id": "f7b6efa8-10cc-4d83-80ed-3ff6d46bd0a8",
   "metadata": {},
   "source": [
    "**Ans to Q3:** Total orders is 48620"
   ]
  },
  {
   "cell_type": "markdown",
   "id": "988c0f98-1104-4791-9d7c-cb785c93292a",
   "metadata": {},
   "source": [
    "---"
   ]
  },
  {
   "cell_type": "markdown",
   "id": "06f2baee-d810-4d83-b7a2-ce7e38e6c9f3",
   "metadata": {},
   "source": [
    "**Q4. How many pizza types do they sell?**"
   ]
  },
  {
   "cell_type": "code",
   "execution_count": 42,
   "id": "19cf27f4-6bb8-43a3-a970-a1f2c746ef43",
   "metadata": {},
   "outputs": [
    {
     "data": {
      "text/plain": [
       "array(['hawaiian', 'classic_dlx', 'five_cheese', 'ital_supr', 'mexicana',\n",
       "       'thai_ckn', 'prsc_argla', 'bbq_ckn', 'the_greek', 'spinach_supr',\n",
       "       'green_garden', 'ital_cpcllo', 'spicy_ital', 'spin_pesto',\n",
       "       'veggie_veg', 'southw_ckn', 'cali_ckn', 'pepperoni', 'ckn_pesto',\n",
       "       'big_meat', 'soppressata', 'four_cheese', 'napolitana',\n",
       "       'calabrese', 'ital_veggie', 'mediterraneo', 'peppr_salami',\n",
       "       'spinach_fet', 'sicilian', 'ckn_alfredo', 'pep_msh_pep',\n",
       "       'brie_carre'], dtype=object)"
      ]
     },
     "execution_count": 42,
     "metadata": {},
     "output_type": "execute_result"
    }
   ],
   "source": [
    "df['pizza_type_id'].unique()"
   ]
  },
  {
   "cell_type": "code",
   "execution_count": 43,
   "id": "f67bb1ce-8873-46a6-aff2-ededc9c812a3",
   "metadata": {},
   "outputs": [
    {
     "data": {
      "text/plain": [
       "32"
      ]
     },
     "execution_count": 43,
     "metadata": {},
     "output_type": "execute_result"
    }
   ],
   "source": [
    "df['pizza_type_id'].nunique()"
   ]
  },
  {
   "cell_type": "markdown",
   "id": "3d333a86-7d63-4339-8fb2-2acb8b68bc1d",
   "metadata": {},
   "source": [
    "**Ans to Q4:** They sell 32 different types of pizza"
   ]
  },
  {
   "cell_type": "markdown",
   "id": "513d74d9-6a36-40b8-b387-fc8c9f01c9b8",
   "metadata": {},
   "source": [
    "---"
   ]
  },
  {
   "cell_type": "markdown",
   "id": "91bfe719-27d5-4fea-a927-70bcdd30d4ed",
   "metadata": {},
   "source": [
    "**Q5. Find the average price of the pizzas.**"
   ]
  },
  {
   "cell_type": "code",
   "execution_count": 44,
   "id": "c2fe3653-c023-4c2c-9256-c014dd5ab111",
   "metadata": {},
   "outputs": [
    {
     "data": {
      "text/plain": [
       "16.494132044426163"
      ]
     },
     "execution_count": 44,
     "metadata": {},
     "output_type": "execute_result"
    }
   ],
   "source": [
    "df['price'].mean()"
   ]
  },
  {
   "cell_type": "markdown",
   "id": "4672634d-e100-4c5c-8f8b-8f956a687367",
   "metadata": {},
   "source": [
    "**Ans to Q5:** The average price of pizza sold is 16.5 USD"
   ]
  },
  {
   "cell_type": "markdown",
   "id": "738529c4-3f41-426f-9f3e-0e552321be8b",
   "metadata": {},
   "source": [
    "---"
   ]
  },
  {
   "cell_type": "markdown",
   "id": "6721e976-c12e-40fe-89cd-436d5b987694",
   "metadata": {},
   "source": [
    "**Q6. What are the peak hours of sales?**"
   ]
  },
  {
   "cell_type": "code",
   "execution_count": 74,
   "id": "53284f6d-2b15-45e2-8bf2-0897130ab480",
   "metadata": {},
   "outputs": [
    {
     "data": {
      "text/plain": [
       "time\n",
       "12:32:00    26\n",
       "11:59:10    24\n",
       "12:53:29    23\n",
       "12:52:36    23\n",
       "12:26:04    23\n",
       "12:25:12    21\n",
       "13:31:27    21\n",
       "11:57:15    21\n",
       "11:50:01    21\n",
       "13:58:37    20\n",
       "Name: count, dtype: int64"
      ]
     },
     "execution_count": 74,
     "metadata": {},
     "output_type": "execute_result"
    }
   ],
   "source": [
    "df['time'].value_counts().head(10)"
   ]
  },
  {
   "cell_type": "code",
   "execution_count": 64,
   "id": "ea8ad01d-812f-44db-a588-11e7016617c0",
   "metadata": {},
   "outputs": [
    {
     "name": "stderr",
     "output_type": "stream",
     "text": [
      "C:\\Users\\User\\AppData\\Local\\Temp\\ipykernel_14940\\998997564.py:2: UserWarning: Could not infer format, so each element will be parsed individually, falling back to `dateutil`. To ensure parsing is consistent and as-expected, please specify a format.\n",
      "  hr = pd.to_datetime(df['time'])\n"
     ]
    }
   ],
   "source": [
    "#df['time']\n",
    "hr = pd.to_datetime(df['time'])\n",
    "#df.info()"
   ]
  },
  {
   "cell_type": "code",
   "execution_count": 60,
   "id": "6aedf6e5-525a-40be-be3a-7e4c5c62fdae",
   "metadata": {},
   "outputs": [
    {
     "data": {
      "text/plain": [
       "Timestamp('2025-09-23 11:38:36')"
      ]
     },
     "execution_count": 60,
     "metadata": {},
     "output_type": "execute_result"
    }
   ],
   "source": [
    "hr.iloc[0]"
   ]
  },
  {
   "cell_type": "code",
   "execution_count": 71,
   "id": "73322c8b-44b2-4694-9b32-1e12199667b2",
   "metadata": {},
   "outputs": [
    {
     "data": {
      "text/plain": [
       "0    11\n",
       "1    11\n",
       "2    11\n",
       "3    11\n",
       "4    11\n",
       "Name: time, dtype: int64"
      ]
     },
     "execution_count": 71,
     "metadata": {},
     "output_type": "execute_result"
    }
   ],
   "source": [
    "hr =  hr.apply(lambda x: x.hour)\n",
    "\n",
    "hr.head()"
   ]
  },
  {
   "cell_type": "code",
   "execution_count": 73,
   "id": "98eba61f-cf58-4490-baaa-1b90bbfce8fc",
   "metadata": {},
   "outputs": [
    {
     "data": {
      "text/plain": [
       "time\n",
       "12    6543\n",
       "13    6203\n",
       "18    5359\n",
       "17    5143\n",
       "19    4350\n",
       "Name: count, dtype: int64"
      ]
     },
     "execution_count": 73,
     "metadata": {},
     "output_type": "execute_result"
    }
   ],
   "source": [
    "hr.value_counts().head(5)"
   ]
  },
  {
   "cell_type": "markdown",
   "id": "7c0d42d2-f372-449b-881d-a8199aa6fbca",
   "metadata": {},
   "source": [
    "**Ans to Q6:** Hmm, this is interesting. So after conversion to hours, the 12th hour is the peak hour of sales closely followed by the 13th hour of the day.\n",
    "\n",
    "Meanwhile, it is also worthy to note that the 18th and 17th hour of the day are the next peak hours of sales with some relatively high numbers\n",
    "\n",
    "This likely indicates that orders for pizzas come in the most during break hours say, 12pm to 1pm and the 2nd best time pizzas order come in is just after work around 5 to 6pm"
   ]
  },
  {
   "cell_type": "markdown",
   "id": "f21460da-ca7a-424a-81b4-e768f1e517f8",
   "metadata": {},
   "source": [
    "---"
   ]
  },
  {
   "cell_type": "markdown",
   "id": "285107f7-ec16-44aa-9880-2fe31d9cc646",
   "metadata": {},
   "source": [
    "**Q7. Find the total sales made on each day of the week. Which day of the week is when sales\n",
    "are made the most?**"
   ]
  },
  {
   "cell_type": "code",
   "execution_count": 87,
   "id": "5b3e5318-e185-487c-91b2-7a51946567ac",
   "metadata": {},
   "outputs": [
    {
     "data": {
      "text/plain": [
       "0    3\n",
       "1    3\n",
       "2    3\n",
       "3    3\n",
       "4    3\n",
       "Name: day_of_week, dtype: int64"
      ]
     },
     "execution_count": 87,
     "metadata": {},
     "output_type": "execute_result"
    }
   ],
   "source": [
    "df['day_of_week'] = pd.to_datetime(df['date'])\n",
    "\n",
    "df['day_of_week'] = df['day_of_week'].apply(lambda x: x.day_of_week)\n",
    "df['day_of_week'].head()"
   ]
  },
  {
   "cell_type": "code",
   "execution_count": 88,
   "id": "7657bee5-46c2-4d0f-af51-2424e07ee78f",
   "metadata": {},
   "outputs": [
    {
     "data": {
      "text/plain": [
       "array([3, 4, 5, 6, 0, 1, 2], dtype=int64)"
      ]
     },
     "execution_count": 88,
     "metadata": {},
     "output_type": "execute_result"
    }
   ],
   "source": [
    "df['day_of_week'].unique()"
   ]
  },
  {
   "cell_type": "code",
   "execution_count": 91,
   "id": "ea9edf86-381c-4922-bdcc-3943e9767031",
   "metadata": {},
   "outputs": [
    {
     "data": {
      "text/plain": [
       "0    Wednesday\n",
       "1    Wednesday\n",
       "2    Wednesday\n",
       "3    Wednesday\n",
       "4    Wednesday\n",
       "Name: day_of_week, dtype: object"
      ]
     },
     "execution_count": 91,
     "metadata": {},
     "output_type": "execute_result"
    }
   ],
   "source": [
    "days = {0:'Sunday', 1:'Monday', 2:'Tuesday', 3:'Wednesday', 4:'Thursday', 5:'Friday', 6:'Saturday'}\n",
    "\n",
    "df['day_of_week'] = df['day_of_week'].map(days)\n",
    "df['day_of_week'].head()"
   ]
  },
  {
   "cell_type": "code",
   "execution_count": 95,
   "id": "3399a7b7-ddc6-4f47-95fb-fa44de706907",
   "metadata": {},
   "outputs": [
    {
     "data": {
      "text/plain": [
       "day_of_week\n",
       "Thursday     136073.90\n",
       "Wednesday    123528.50\n",
       "Friday       123182.40\n",
       "Tuesday      114408.40\n",
       "Monday       114133.80\n",
       "Sunday       107329.55\n",
       "Saturday      99203.50\n",
       "Name: total_bill, dtype: float64"
      ]
     },
     "execution_count": 95,
     "metadata": {},
     "output_type": "execute_result"
    }
   ],
   "source": [
    "sales_per_day = df.groupby('day_of_week')['total_bill'].sum()\n",
    "\n",
    "sales_per_day.sort_values(ascending=False)"
   ]
  },
  {
   "cell_type": "markdown",
   "id": "fef4dbb3-d20e-441a-910e-dc515716d7d8",
   "metadata": {},
   "source": [
    "**Ans to Q7:** The Total sales made per day is calculated above but the day of the week with the most sales is Thursday with a total of 136,073.90 USD in sales"
   ]
  },
  {
   "cell_type": "markdown",
   "id": "b80fe3ab-9d6b-4f1d-aee2-7707f997b212",
   "metadata": {},
   "source": [
    "---"
   ]
  },
  {
   "cell_type": "markdown",
   "id": "170e0284-53e9-4c34-b51f-c732b77bebdb",
   "metadata": {},
   "source": [
    "**Q8. Find the top 5 bestselling pizzas.**\n",
    "\n",
    "I think this question is in 2 part, Bestselling pizzas in terms of quantity or sales? Let's check both to see"
   ]
  },
  {
   "cell_type": "code",
   "execution_count": 105,
   "id": "3f813b36-f44e-4aac-82f5-378f669470bd",
   "metadata": {},
   "outputs": [
    {
     "data": {
      "text/plain": [
       "pizza_type_id\n",
       "classic_dlx    2453\n",
       "bbq_ckn        2432\n",
       "hawaiian       2422\n",
       "pepperoni      2418\n",
       "thai_ckn       2371\n",
       "Name: quantity, dtype: int64"
      ]
     },
     "execution_count": 105,
     "metadata": {},
     "output_type": "execute_result"
    }
   ],
   "source": [
    "bestselling_Q = df.groupby('pizza_type_id')['quantity'].sum() # Grouped to see bestselling pizza by Total Quantity sold\n",
    "\n",
    "bestselling_Q.sort_values(ascending=False).head()"
   ]
  },
  {
   "cell_type": "code",
   "execution_count": 108,
   "id": "376a7831-315f-4356-85ee-0af4001f6637",
   "metadata": {},
   "outputs": [
    {
     "data": {
      "text/plain": [
       "pizza_type_id\n",
       "thai_ckn       43434.25\n",
       "bbq_ckn        42768.00\n",
       "cali_ckn       41409.50\n",
       "classic_dlx    38180.50\n",
       "spicy_ital     34831.25\n",
       "Name: total_bill, dtype: float64"
      ]
     },
     "execution_count": 108,
     "metadata": {},
     "output_type": "execute_result"
    }
   ],
   "source": [
    "bestselling_P = df.groupby('pizza_type_id')['total_bill'].sum() # Grouped to see bestselling pizza by Total Sales\n",
    "\n",
    "bestselling_P.sort_values(ascending=False).head()"
   ]
  },
  {
   "cell_type": "markdown",
   "id": "336a4316-1a00-498d-9efa-898e7e340979",
   "metadata": {},
   "source": [
    "**Ans to Q8:** The above results shows that the best selling pizza in quantity sold is 'classic_dlx', closely followed by bbq_ckn, hawaiian, pepperoni, and thai_ckn pizza types\n",
    "\n",
    "In constrast, the best selling pizzas by sales is 'thai_ckn', closely followed by bbq_ckn, cali_ckn, classic_dlx, and spicy_ital which doesn't feature in quantity top 5 ranking"
   ]
  },
  {
   "cell_type": "markdown",
   "id": "b058400c-9817-4720-bcf3-2ca34e3c5c32",
   "metadata": {},
   "source": [
    "---"
   ]
  },
  {
   "cell_type": "markdown",
   "id": "9521b677-1453-4452-b6e3-b9e6fae6e34d",
   "metadata": {},
   "source": [
    "**Q9. Find the sales made in each month. Any trend noticeable?**"
   ]
  },
  {
   "cell_type": "code",
   "execution_count": 111,
   "id": "937b40ea-82ff-41fb-86b4-1aa8beceb082",
   "metadata": {},
   "outputs": [],
   "source": [
    "df['month'] = pd.to_datetime(df['date'])"
   ]
  },
  {
   "cell_type": "code",
   "execution_count": 114,
   "id": "9d6f9039-96e7-48df-bf86-35e87bc18629",
   "metadata": {},
   "outputs": [
    {
     "data": {
      "text/plain": [
       "array([ 1,  2,  3,  4,  5,  6,  7,  8,  9, 10, 11, 12], dtype=int64)"
      ]
     },
     "execution_count": 114,
     "metadata": {},
     "output_type": "execute_result"
    }
   ],
   "source": [
    "df['month'] = df['month'].apply(lambda x: x.month)\n",
    "\n",
    "df['month'].unique()"
   ]
  },
  {
   "cell_type": "code",
   "execution_count": 121,
   "id": "219f0511-89f4-4471-a48e-a64ee2a8cf7b",
   "metadata": {},
   "outputs": [
    {
     "data": {
      "text/plain": [
       "0    January\n",
       "1    January\n",
       "2    January\n",
       "3    January\n",
       "4    January\n",
       "Name: month, dtype: object"
      ]
     },
     "execution_count": 121,
     "metadata": {},
     "output_type": "execute_result"
    }
   ],
   "source": [
    "month_no = list(range(1,13)) # Creating a list of 1 to 12 via the range class\n",
    "month_names = 'January,Febuary,March,April,June,July,August,September,October,November,December'.split(',') # Creating a list of the 12 months\n",
    "month = dict(zip(month_no, month_names)) # Creating a dictionary of months with numbers as keys using the zip and dict function\n",
    "\n",
    "df['month'] = df['month'].map(month) # Map the dictionary to the month column in the dataset\n",
    "df['month'].head()"
   ]
  },
  {
   "cell_type": "code",
   "execution_count": 123,
   "id": "1b7aeb2c-122d-4e80-a67d-c162a64c70b9",
   "metadata": {},
   "outputs": [
    {
     "data": {
      "text/plain": [
       "month\n",
       "November     64027.60\n",
       "October      64180.05\n",
       "Febuary      65159.60\n",
       "July         68230.20\n",
       "September    68278.25\n",
       "April        68736.80\n",
       "January      69793.30\n",
       "December     70395.35\n",
       "March        70397.10\n",
       "June         71402.75\n",
       "August       72557.90\n",
       "Name: total_bill, dtype: float64"
      ]
     },
     "execution_count": 123,
     "metadata": {},
     "output_type": "execute_result"
    }
   ],
   "source": [
    "monthly_sales = df.groupby('month')['total_bill'].sum()\n",
    "\n",
    "monthly_sales.sort_values()"
   ]
  },
  {
   "cell_type": "markdown",
   "id": "a7fa5b7f-5531-4cee-bc12-1794c2149bd9",
   "metadata": {},
   "source": [
    "**Ans to Q9:** Above is the total sales made each month. Trend? Noticed none yet"
   ]
  },
  {
   "cell_type": "markdown",
   "id": "5fb07ea2-ffc0-43ab-95ec-d89be809df09",
   "metadata": {},
   "source": [
    "---"
   ]
  },
  {
   "cell_type": "markdown",
   "id": "6f286012-ad42-4ef2-b70f-0a600c1dc2ed",
   "metadata": {},
   "source": [
    "**Q10. Are there pizza types that are not doing well on the menu?**"
   ]
  },
  {
   "cell_type": "code",
   "execution_count": 126,
   "id": "fc3d4d86-3c10-4a5b-82f2-90f8ab8544ef",
   "metadata": {},
   "outputs": [
    {
     "data": {
      "text/plain": [
       "pizza_type_id\n",
       "brie_carre      11588.50\n",
       "green_garden    13955.75\n",
       "spinach_supr    15277.75\n",
       "mediterraneo    15360.50\n",
       "spin_pesto      15596.00\n",
       "Name: total_bill, dtype: float64"
      ]
     },
     "execution_count": 126,
     "metadata": {},
     "output_type": "execute_result"
    }
   ],
   "source": [
    "bestselling_P.sort_values().head() # sort_values is in ascending order by default, which the first value is the least"
   ]
  },
  {
   "cell_type": "code",
   "execution_count": 125,
   "id": "420d0305-874e-4f15-8525-121581d4984e",
   "metadata": {},
   "outputs": [
    {
     "data": {
      "text/plain": [
       "pizza_type_id\n",
       "brie_carre      490\n",
       "mediterraneo    934\n",
       "calabrese       937\n",
       "spinach_supr    950\n",
       "soppressata     961\n",
       "Name: quantity, dtype: int64"
      ]
     },
     "execution_count": 125,
     "metadata": {},
     "output_type": "execute_result"
    }
   ],
   "source": [
    "bestselling_Q.sort_values().head()"
   ]
  },
  {
   "cell_type": "markdown",
   "id": "365693d4-6f5b-4ed0-b182-aae17a33e2d6",
   "metadata": {},
   "source": [
    "**Ans to Q10:** Both Sales and Quantity measuring scale both agree that the least type of pizza not doing well is the *\"brie_carre\"* type\n",
    "\n",
    "In fact, it has an estimate ratio of 1:5, implying that classic_dlx *(bestselling in quantity)* would have sold 5 quantities before brie_carre gets 1 sale"
   ]
  },
  {
   "cell_type": "markdown",
   "id": "7f920c68-c5f7-4d66-b873-c73a53b5c54b",
   "metadata": {},
   "source": [
    "---"
   ]
  },
  {
   "cell_type": "markdown",
   "id": "6d06d756-a684-4ed3-9ad7-ef6343bf14ba",
   "metadata": {},
   "source": [
    "## Exploratory Data Analysis"
   ]
  },
  {
   "cell_type": "code",
   "execution_count": 127,
   "id": "7588719b-e660-4380-8e81-677ed104ea8a",
   "metadata": {},
   "outputs": [],
   "source": [
    "from matplotlib import pyplot as plt\n",
    "\n",
    "%matplotlib inline"
   ]
  },
  {
   "cell_type": "code",
   "execution_count": 164,
   "id": "d3ff41f6-c26d-4f1a-9b2c-3517d53fb973",
   "metadata": {
    "scrolled": true
   },
   "outputs": [
    {
     "data": {
      "text/plain": [
       "Text(0.5, 0, 'Hour')"
      ]
     },
     "execution_count": 164,
     "metadata": {},
     "output_type": "execute_result"
    },
    {
     "data": {
      "image/png": "[encoded data removed]",
      "text/plain": [
       "<Figure size 1000x500 with 1 Axes>"
      ]
     },
     "metadata": {},
     "output_type": "display_data"
    }
   ],
   "source": [
    "# LinePlot to see the hour trend of order by hour\n",
    "df['hour'] = hr\n",
    "hour_orders = df.groupby('hour')['order_id'].count()\n",
    "\n",
    "plt.figure(figsize=(10,5))\n",
    "plt.plot(hour_orders.index, hour_orders.values)\n",
    "\n",
    "plt.title('Line Plot Trend of Orders by Hour')\n",
    "plt.ylabel('Number of Orders')\n",
    "plt.xlabel('Hour')"
   ]
  },
  {
   "cell_type": "code",
   "execution_count": 183,
   "id": "da689483-9e9f-4c2e-98a6-7726e2dbba9f",
   "metadata": {
    "scrolled": true
   },
   "outputs": [
    {
     "data": {
      "text/plain": [
       "Text(0.5, 0, 'Month')"
      ]
     },
     "execution_count": 183,
     "metadata": {},
     "output_type": "execute_result"
    },
    {
     "data": {
      "image/png": "[encoded data removed]",
      "text/plain": [
       "<Figure size 1200x500 with 1 Axes>"
      ]
     },
     "metadata": {},
     "output_type": "display_data"
    }
   ],
   "source": [
    "# LinePlot to see the hour trend of monthly sales\n",
    "plt.figure(figsize=(12,5))\n",
    "plt.plot(monthly_sales.index, monthly_sales.values)\n",
    "\n",
    "plt.title('Line Plot Trend for Monthly Sales')\n",
    "plt.ylabel('Sales')\n",
    "plt.xlabel('Month')"
   ]
  },
  {
   "cell_type": "code",
   "execution_count": 190,
   "id": "eeab6033-5105-468c-bed4-5a620039926b",
   "metadata": {},
   "outputs": [
    {
     "data": {
      "text/plain": [
       "Text(0.5, 0, 'Month')"
      ]
     },
     "execution_count": 190,
     "metadata": {},
     "output_type": "execute_result"
    },
    {
     "data": {
      "image/png": "[encoded data removed]",
      "text/plain": [
       "<Figure size 1200x500 with 1 Axes>"
      ]
     },
     "metadata": {},
     "output_type": "display_data"
    }
   ],
   "source": [
    "# LinePlot to see the hour trend of monthly sales\n",
    "plt.figure(figsize=(12,5))\n",
    "plt.plot(monthly_sales.sort_values().index, monthly_sales.sort_values().values)\n",
    "\n",
    "plt.title('Rising Line Plot Trend for Monthly Sales')\n",
    "plt.ylabel('Sales')\n",
    "plt.xlabel('Month')"
   ]
  },
  {
   "cell_type": "code",
   "execution_count": 182,
   "id": "68af1cf9-da5c-4fff-8ce3-331036206265",
   "metadata": {
    "scrolled": true
   },
   "outputs": [
    {
     "data": {
      "text/plain": [
       "<Axes: title={'center': 'Top 10 BestSelling Pizza Type in Quantity'}, xlabel='pizza_type_id'>"
      ]
     },
     "execution_count": 182,
     "metadata": {},
     "output_type": "execute_result"
    },
    {
     "data": {
      "image/png": "[encoded data removed]",
      "text/plain": [
       "<Figure size 1200x700 with 1 Axes>"
      ]
     },
     "metadata": {},
     "output_type": "display_data"
    }
   ],
   "source": [
    "Q_type = df.groupby('pizza_type_id')['quantity'].sum()\n",
    "Q_type.head(10).sort_values(ascending=False).plot(kind='bar', figsize=(12,7), title='Top 10 BestSelling Pizza Type in Quantity')"
   ]
  },
  {
   "cell_type": "code",
   "execution_count": 188,
   "id": "abcf8c73-bf88-4e9a-9e77-cc34b74f0961",
   "metadata": {
    "scrolled": true
   },
   "outputs": [
    {
     "data": {
      "text/plain": [
       "<Axes: title={'center': 'Top 10 BestSelling Pizza Type by Total Sales'}, xlabel='pizza_type_id'>"
      ]
     },
     "execution_count": 188,
     "metadata": {},
     "output_type": "execute_result"
    },
    {
     "data": {
      "image/png": "[encoded data removed]",
      "text/plain": [
       "<Figure size 1200x700 with 1 Axes>"
      ]
     },
     "metadata": {},
     "output_type": "display_data"
    }
   ],
   "source": [
    "P_type = df.groupby('pizza_type_id')['total_bill'].sum()\n",
    "P_type.head(10).sort_values(ascending=False).plot(kind='bar', figsize=(12,7), title='Top 10 BestSelling Pizza Type by Total Sales', grid=True)"
   ]
  },
  {
   "cell_type": "markdown",
   "id": "d16e59f9-d91b-4afe-904e-53fbeaf94d18",
   "metadata": {
    "jp-MarkdownHeadingCollapsed": true
   },
   "source": [
    "# The End!\n",
    "\n",
    "*ngl, learned a couple of things with this task, had series of wrong code, but afterall, it figured it out,, couldn't be more proud.*"
   ]
  }
 ],
 "metadata": {
  "kernelspec": {
   "display_name": "Python [conda env:base] *",
   "language": "python",
   "name": "conda-base-py"
  },
  "language_info": {
   "codemirror_mode": {
    "name": "ipython",
    "version": 3
   },
   "file_extension": ".py",
   "mimetype": "text/x-python",
   "name": "python",
   "nbconvert_exporter": "python",
   "pygments_lexer": "ipython3",
   "version": "3.12.4"
  }
 },
 "nbformat": 4,
 "nbformat_minor": 5
}
